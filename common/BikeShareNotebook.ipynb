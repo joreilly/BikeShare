{
 "cells": [
  {
   "cell_type": "code",
   "source": [
    "import dev.johnoreilly.common.di.createHttpClient\n",
    "import dev.johnoreilly.common.remote.CityBikesApi\n",
    "import io.ktor.client.engine.java.Java\n",
    "import kotlinx.coroutines.GlobalScope\n",
    "import kotlinx.coroutines.MainScope\n",
    "import kotlinx.coroutines.launch\n",
    "import kotlinx.coroutines.runBlocking\n",
    "import kotlinx.serialization.json.Json\n",
    "%use dataframe\n",
    "\n",
    "val json = Json { isLenient = true; ignoreUnknownKeys = true; useAlternativeNames = false }\n",
    "val engine = Java.create()\n",
    "val httpClient = createHttpClient(engine, json)\n",
    "val api = CityBikesApi(httpClient)\n",
    "\n",
    "val bikeStations = runBlocking { api.fetchBikeShareInfo(\"galway\").network.stations }\n",
    "\n",
    "bikeStations.toDataFrame()"
   ],
   "metadata": {
    "collapsed": false,
    "ExecuteTime": {
     "end_time": "2025-02-20T22:03:39.716467Z",
     "start_time": "2025-02-20T22:03:37.005393Z"
    }
   },
   "outputs": [
    {
     "ename": "org.jetbrains.kotlinx.jupyter.exceptions.ReplCompilerException",
     "evalue": "at Cell In[1], line 1, column 34: Unresolved reference: createHttpClient\nat Cell In[1], line 2, column 38: Class 'dev.johnoreilly.common.remote.CityBikesApi' was compiled with an incompatible version of Kotlin. The actual metadata version is 2.1.0, but the compiler version 1.9.0 can read versions up to 2.0.0.\nThe class is loaded from /Users/joreilly/dev/github/BikeShare/common/build/classes/kotlin/jvm/main/dev/johnoreilly/common/remote/CityBikesApi.class\nat Cell In[1], line 13, column 18: Unresolved reference: createHttpClient\nat Cell In[1], line 14, column 11: Class 'dev.johnoreilly.common.remote.CityBikesApi' was compiled with an incompatible version of Kotlin. The actual metadata version is 2.1.0, but the compiler version 1.9.0 can read versions up to 2.0.0.\nThe class is loaded from /Users/joreilly/dev/github/BikeShare/common/build/classes/kotlin/jvm/main/dev/johnoreilly/common/remote/CityBikesApi.class\nat Cell In[1], line 14, column 11: Class 'dev.johnoreilly.common.remote.CityBikesApi' was compiled with an incompatible version of Kotlin. The actual metadata version is 2.1.0, but the compiler version 1.9.0 can read versions up to 2.0.0.\nThe class is loaded from /Users/joreilly/dev/github/BikeShare/common/build/classes/kotlin/jvm/main/dev/johnoreilly/common/remote/CityBikesApi.class\nat Cell In[1], line 16, column 34: Class 'dev.johnoreilly.common.remote.CityBikesApi' was compiled with an incompatible version of Kotlin. The actual metadata version is 2.1.0, but the compiler version 1.9.0 can read versions up to 2.0.0.\nThe class is loaded from /Users/joreilly/dev/github/BikeShare/common/build/classes/kotlin/jvm/main/dev/johnoreilly/common/remote/CityBikesApi.class\nat Cell In[1], line 16, column 34: Class 'dev.johnoreilly.common.remote.CityBikesApi' was compiled with an incompatible version of Kotlin. The actual metadata version is 2.1.0, but the compiler version 1.9.0 can read versions up to 2.0.0.\nThe class is loaded from /Users/joreilly/dev/github/BikeShare/common/build/classes/kotlin/jvm/main/dev/johnoreilly/common/remote/CityBikesApi.class\nat Cell In[1], line 16, column 38: Class 'dev.johnoreilly.common.remote.NetworkResult' was compiled with an incompatible version of Kotlin. The actual metadata version is 2.1.0, but the compiler version 1.9.0 can read versions up to 2.0.0.\nThe class is loaded from /Users/joreilly/dev/github/BikeShare/common/build/classes/kotlin/jvm/main/dev/johnoreilly/common/remote/NetworkResult.class\nat Cell In[1], line 16, column 67: Class 'dev.johnoreilly.common.remote.NetworkDTO' was compiled with an incompatible version of Kotlin. The actual metadata version is 2.1.0, but the compiler version 1.9.0 can read versions up to 2.0.0.\nThe class is loaded from /Users/joreilly/dev/github/BikeShare/common/build/classes/kotlin/jvm/main/dev/johnoreilly/common/remote/NetworkDTO.class",
     "output_type": "error",
     "traceback": [
      "org.jetbrains.kotlinx.jupyter.exceptions.ReplCompilerException: at Cell In[1], line 1, column 34: Unresolved reference: createHttpClient",
      "at Cell In[1], line 2, column 38: Class 'dev.johnoreilly.common.remote.CityBikesApi' was compiled with an incompatible version of Kotlin. The actual metadata version is 2.1.0, but the compiler version 1.9.0 can read versions up to 2.0.0.",
      "The class is loaded from /Users/joreilly/dev/github/BikeShare/common/build/classes/kotlin/jvm/main/dev/johnoreilly/common/remote/CityBikesApi.class",
      "at Cell In[1], line 13, column 18: Unresolved reference: createHttpClient",
      "at Cell In[1], line 14, column 11: Class 'dev.johnoreilly.common.remote.CityBikesApi' was compiled with an incompatible version of Kotlin. The actual metadata version is 2.1.0, but the compiler version 1.9.0 can read versions up to 2.0.0.",
      "The class is loaded from /Users/joreilly/dev/github/BikeShare/common/build/classes/kotlin/jvm/main/dev/johnoreilly/common/remote/CityBikesApi.class",
      "at Cell In[1], line 14, column 11: Class 'dev.johnoreilly.common.remote.CityBikesApi' was compiled with an incompatible version of Kotlin. The actual metadata version is 2.1.0, but the compiler version 1.9.0 can read versions up to 2.0.0.",
      "The class is loaded from /Users/joreilly/dev/github/BikeShare/common/build/classes/kotlin/jvm/main/dev/johnoreilly/common/remote/CityBikesApi.class",
      "at Cell In[1], line 16, column 34: Class 'dev.johnoreilly.common.remote.CityBikesApi' was compiled with an incompatible version of Kotlin. The actual metadata version is 2.1.0, but the compiler version 1.9.0 can read versions up to 2.0.0.",
      "The class is loaded from /Users/joreilly/dev/github/BikeShare/common/build/classes/kotlin/jvm/main/dev/johnoreilly/common/remote/CityBikesApi.class",
      "at Cell In[1], line 16, column 34: Class 'dev.johnoreilly.common.remote.CityBikesApi' was compiled with an incompatible version of Kotlin. The actual metadata version is 2.1.0, but the compiler version 1.9.0 can read versions up to 2.0.0.",
      "The class is loaded from /Users/joreilly/dev/github/BikeShare/common/build/classes/kotlin/jvm/main/dev/johnoreilly/common/remote/CityBikesApi.class",
      "at Cell In[1], line 16, column 38: Class 'dev.johnoreilly.common.remote.NetworkResult' was compiled with an incompatible version of Kotlin. The actual metadata version is 2.1.0, but the compiler version 1.9.0 can read versions up to 2.0.0.",
      "The class is loaded from /Users/joreilly/dev/github/BikeShare/common/build/classes/kotlin/jvm/main/dev/johnoreilly/common/remote/NetworkResult.class",
      "at Cell In[1], line 16, column 67: Class 'dev.johnoreilly.common.remote.NetworkDTO' was compiled with an incompatible version of Kotlin. The actual metadata version is 2.1.0, but the compiler version 1.9.0 can read versions up to 2.0.0.",
      "The class is loaded from /Users/joreilly/dev/github/BikeShare/common/build/classes/kotlin/jvm/main/dev/johnoreilly/common/remote/NetworkDTO.class",
      "\tat org.jetbrains.kotlinx.jupyter.repl.impl.JupyterCompilerImpl.compileSync(JupyterCompilerImpl.kt:208)",
      "\tat org.jetbrains.kotlinx.jupyter.repl.impl.InternalEvaluatorImpl.eval(InternalEvaluatorImpl.kt:126)",
      "\tat org.jetbrains.kotlinx.jupyter.repl.impl.CellExecutorImpl$execute$1$result$1.invoke(CellExecutorImpl.kt:80)",
      "\tat org.jetbrains.kotlinx.jupyter.repl.impl.CellExecutorImpl$execute$1$result$1.invoke(CellExecutorImpl.kt:78)",
      "\tat org.jetbrains.kotlinx.jupyter.repl.impl.ReplForJupyterImpl.withHost(ReplForJupyterImpl.kt:774)",
      "\tat org.jetbrains.kotlinx.jupyter.repl.impl.CellExecutorImpl.execute-L4Nmkdk(CellExecutorImpl.kt:78)",
      "\tat org.jetbrains.kotlinx.jupyter.repl.execution.CellExecutor$DefaultImpls.execute-L4Nmkdk$default(CellExecutor.kt:13)",
      "\tat org.jetbrains.kotlinx.jupyter.repl.impl.ReplForJupyterImpl.evaluateUserCode-wNURfNM(ReplForJupyterImpl.kt:596)",
      "\tat org.jetbrains.kotlinx.jupyter.repl.impl.ReplForJupyterImpl.evalExImpl(ReplForJupyterImpl.kt:454)",
      "\tat org.jetbrains.kotlinx.jupyter.repl.impl.ReplForJupyterImpl.access$evalExImpl(ReplForJupyterImpl.kt:141)",
      "\tat org.jetbrains.kotlinx.jupyter.repl.impl.ReplForJupyterImpl$evalEx$1.invoke(ReplForJupyterImpl.kt:447)",
      "\tat org.jetbrains.kotlinx.jupyter.repl.impl.ReplForJupyterImpl$evalEx$1.invoke(ReplForJupyterImpl.kt:446)",
      "\tat org.jetbrains.kotlinx.jupyter.repl.impl.ReplForJupyterImpl.withEvalContext(ReplForJupyterImpl.kt:427)",
      "\tat org.jetbrains.kotlinx.jupyter.repl.impl.ReplForJupyterImpl.evalEx(ReplForJupyterImpl.kt:446)",
      "\tat org.jetbrains.kotlinx.jupyter.messaging.IdeCompatibleMessageRequestProcessor$processExecuteRequest$1$response$1$1.invoke(IdeCompatibleMessageRequestProcessor.kt:171)",
      "\tat org.jetbrains.kotlinx.jupyter.messaging.IdeCompatibleMessageRequestProcessor$processExecuteRequest$1$response$1$1.invoke(IdeCompatibleMessageRequestProcessor.kt:170)",
      "\tat org.jetbrains.kotlinx.jupyter.streams.BlockingSubstitutionEngine.withDataSubstitution(SubstitutionEngine.kt:70)",
      "\tat org.jetbrains.kotlinx.jupyter.streams.StreamSubstitutionManager.withSubstitutedStreams(StreamSubstitutionManager.kt:118)",
      "\tat org.jetbrains.kotlinx.jupyter.messaging.IdeCompatibleMessageRequestProcessor.withForkedIn(IdeCompatibleMessageRequestProcessor.kt:347)",
      "\tat org.jetbrains.kotlinx.jupyter.messaging.IdeCompatibleMessageRequestProcessor.access$withForkedIn(IdeCompatibleMessageRequestProcessor.kt:67)",
      "\tat org.jetbrains.kotlinx.jupyter.messaging.IdeCompatibleMessageRequestProcessor$evalWithIO$1$1.invoke(IdeCompatibleMessageRequestProcessor.kt:361)",
      "\tat org.jetbrains.kotlinx.jupyter.streams.BlockingSubstitutionEngine.withDataSubstitution(SubstitutionEngine.kt:70)",
      "\tat org.jetbrains.kotlinx.jupyter.streams.StreamSubstitutionManager.withSubstitutedStreams(StreamSubstitutionManager.kt:118)",
      "\tat org.jetbrains.kotlinx.jupyter.messaging.IdeCompatibleMessageRequestProcessor.withForkedErr(IdeCompatibleMessageRequestProcessor.kt:336)",
      "\tat org.jetbrains.kotlinx.jupyter.messaging.IdeCompatibleMessageRequestProcessor.access$withForkedErr(IdeCompatibleMessageRequestProcessor.kt:67)",
      "\tat org.jetbrains.kotlinx.jupyter.messaging.IdeCompatibleMessageRequestProcessor$evalWithIO$1.invoke(IdeCompatibleMessageRequestProcessor.kt:360)",
      "\tat org.jetbrains.kotlinx.jupyter.streams.BlockingSubstitutionEngine.withDataSubstitution(SubstitutionEngine.kt:70)",
      "\tat org.jetbrains.kotlinx.jupyter.streams.StreamSubstitutionManager.withSubstitutedStreams(StreamSubstitutionManager.kt:118)",
      "\tat org.jetbrains.kotlinx.jupyter.messaging.IdeCompatibleMessageRequestProcessor.withForkedOut(IdeCompatibleMessageRequestProcessor.kt:328)",
      "\tat org.jetbrains.kotlinx.jupyter.messaging.IdeCompatibleMessageRequestProcessor.evalWithIO(IdeCompatibleMessageRequestProcessor.kt:359)",
      "\tat org.jetbrains.kotlinx.jupyter.messaging.IdeCompatibleMessageRequestProcessor$processExecuteRequest$1$response$1.invoke(IdeCompatibleMessageRequestProcessor.kt:170)",
      "\tat org.jetbrains.kotlinx.jupyter.messaging.IdeCompatibleMessageRequestProcessor$processExecuteRequest$1$response$1.invoke(IdeCompatibleMessageRequestProcessor.kt:169)",
      "\tat org.jetbrains.kotlinx.jupyter.execution.JupyterExecutorImpl$Task.execute(JupyterExecutorImpl.kt:41)",
      "\tat org.jetbrains.kotlinx.jupyter.execution.JupyterExecutorImpl$executorThread$1.invoke(JupyterExecutorImpl.kt:81)",
      "\tat org.jetbrains.kotlinx.jupyter.execution.JupyterExecutorImpl$executorThread$1.invoke(JupyterExecutorImpl.kt:79)",
      "\tat kotlin.concurrent.ThreadsKt$thread$thread$1.run(Thread.kt:30)",
      ""
     ]
    }
   ],
   "execution_count": 1
  },
  {
   "cell_type": "code",
   "source": [],
   "metadata": {
    "collapsed": false,
    "ExecuteTime": {
     "end_time": "2025-02-20T22:03:39.733968Z",
     "start_time": "2025-02-20T21:04:22.516124Z"
    }
   },
   "outputs": [],
   "execution_count": null
  },
  {
   "cell_type": "code",
   "source": [],
   "metadata": {
    "collapsed": false,
    "ExecuteTime": {
     "end_time": "2025-02-20T22:03:39.738719Z",
     "start_time": "2025-02-20T21:04:22.545007Z"
    }
   },
   "outputs": [],
   "execution_count": null
  }
 ],
 "metadata": {
  "kernelspec": {
   "display_name": "Kotlin",
   "language": "kotlin",
   "name": "kotlin"
  },
  "language_info": {
   "name": "kotlin",
   "version": "1.8.20",
   "mimetype": "text/x-kotlin",
   "file_extension": ".kt",
   "pygments_lexer": "kotlin",
   "codemirror_mode": "text/x-kotlin",
   "nbconvert_exporter": ""
  },
  "ktnbPluginMetadata": {
   "projectDependencies": [
    "github.BikeShare.common.jvmMain"
   ],
   "projectLibraries": false
  }
 },
 "nbformat": 4,
 "nbformat_minor": 0
}
